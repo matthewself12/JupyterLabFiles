{
 "cells": [
  {
   "cell_type": "code",
   "execution_count": 1,
   "id": "18937155-5ce1-4d2e-8bea-64ee6c9e5bfd",
   "metadata": {},
   "outputs": [],
   "source": [
    "# Imports\n",
    "import numpy as np\n",
    "from matplotlib import pyplot as plt\n",
    "from scipy import signal as sp\n",
    "\n",
    "# Load the raw collection\n",
    "s = np.fromfile(open(\"rawData\"), dtype=np.complex64)\n",
    "\n",
    "# Notes from Matthew\n",
    "Fs = 1e6\n",
    "Fc = 433946924\n",
    "\n",
    "# Setup a time axis\n",
    "t = np.arange(s.size) / Fs"
   ]
  },
  {
   "cell_type": "code",
   "execution_count": 2,
   "id": "9f7188db-e5f9-40c3-84a4-4672f065fd40",
   "metadata": {},
   "outputs": [],
   "source": [
    "def filterSignal(s, timeframe, Fs):\n",
    "    # Low =-pass filter the data\n",
    "    h = sp.firwin(numtaps=101, cutoff=1, nyq=Fs/2)\n",
    "    s_filtered = np.abs(sp.lfilter(h, 1.0, s[timeframe]))\n",
    "    return s_filtered\n",
    "\n",
    "def getStartTime(s):\n",
    "    # Find the start of the first data chunk\n",
    "    start = 0\n",
    "    for i, item in enumerate(s):\n",
    "        if(item > 0.05):\n",
    "            start = i\n",
    "            break\n",
    "    if(start == 0):\n",
    "        # no signal found\n",
    "        return -1\n",
    "    else:\n",
    "        return start\n",
    "\n",
    "def signal_to_data(s_filtered):\n",
    "    # First find the mean amplitude of the filtered data signal\n",
    "    avg = sum(s_filtered) / s_filtered.size\n",
    "    # Anything that is below the mean is 0, and anything above is 1\n",
    "    scaled = s_filtered.copy()\n",
    "    for i, item in enumerate(scaled):\n",
    "        if item < avg:\n",
    "            scaled[i] = 0\n",
    "        else:\n",
    "            scaled[i] = 1\n",
    "    # Find the duration of each peak and place them into an array\n",
    "    durations = []\n",
    "    bits = []\n",
    "    prevVal = scaled[0]\n",
    "    duration = 0\n",
    "    for i in range(scaled.size):\n",
    "        if(scaled[i] == prevVal):\n",
    "            duration = duration + 1\n",
    "        else:\n",
    "            durations.append(duration)\n",
    "            if(duration > 580):\n",
    "                bits.append(bool(prevVal))\n",
    "                bits.append(bool(prevVal))\n",
    "                bits.append(bool(prevVal))\n",
    "            elif(duration > 380):\n",
    "                bits.append(bool(prevVal))\n",
    "                bits.append(bool(prevVal))\n",
    "            else:\n",
    "                bits.append(bool(prevVal))\n",
    "            duration = 0 # reset the duration \"timer\"\n",
    "        prevVal = scaled[i]\n",
    "\n",
    "    # find the max and min durations\n",
    "    maxDuration = np.max(durations)\n",
    "    minDuration = np.min(durations)\n",
    "    print('Min Duration:', minDuration)\n",
    "    print('Max Duration:', maxDuration)\n",
    "    print('Total Pulses:', len(durations))\n",
    "    print('Number of Bits:', len(bits))\n",
    "    \n",
    "    byteStr = \"\"\n",
    "    for b in bits:\n",
    "        byteStr += str(int(b))\n",
    "    return byteStr\n",
    "\n",
    "def compare_byteStrings(b1, b2, b3):\n",
    "    return b1 == b2 and b2 == b3"
   ]
  },
  {
   "cell_type": "code",
   "execution_count": 3,
   "id": "95ea2554-a8a0-4739-8c64-69f7b6f42ce8",
   "metadata": {},
   "outputs": [],
   "source": [
    "# plt.figure(figsize=(12,5))\n",
    "# plt.plot(t, np.abs(s))\n",
    "# plt.xlabel('Time')\n",
    "# plt.ylabel('$|s|$')\n",
    "# plt.grid()\n",
    "# plt.show()"
   ]
  },
  {
   "cell_type": "code",
   "execution_count": 4,
   "id": "f171fe47-9176-4efa-9d81-8eea55fca082",
   "metadata": {},
   "outputs": [],
   "source": [
    "# plt.figure(figsize=(12,5))\n",
    "# plt.plot(t, np.abs(s))\n",
    "# plt.xlabel('Time')\n",
    "# plt.ylabel('$|s|$')\n",
    "# plt.xlim(6, 6.25)\n",
    "# plt.grid()\n",
    "# plt.show()"
   ]
  },
  {
   "cell_type": "code",
   "execution_count": 5,
   "id": "85c13194-dcc1-440c-abd7-0fe9b6f6c0cc",
   "metadata": {},
   "outputs": [],
   "source": [
    "# plt.figure(figsize=(12,5))\n",
    "# plt.plot(t, np.abs(s))\n",
    "# plt.xlabel('Time')\n",
    "# plt.ylabel('$|s|$')\n",
    "# plt.xlim(6.0955, 6.1375)\n",
    "# plt.grid()\n",
    "# plt.show()"
   ]
  },
  {
   "cell_type": "code",
   "execution_count": 6,
   "id": "0f1ad1cb-93b1-4a0c-a84b-562532cd39a1",
   "metadata": {},
   "outputs": [],
   "source": [
    "# # Plot just the real\n",
    "# plt.figure(figsize=(12,5))\n",
    "# plt.plot(t, np.real(s))\n",
    "# plt.xlabel('Time')\n",
    "# plt.ylabel('$|s|$')\n",
    "# plt.xlim(6.012, 6.054)\n",
    "# plt.grid()\n",
    "# plt.show()"
   ]
  },
  {
   "cell_type": "code",
   "execution_count": 7,
   "id": "6110cab6-bc04-4189-b7e4-fe7ff279c36c",
   "metadata": {},
   "outputs": [],
   "source": [
    "# # Plot just the imaginary\n",
    "# plt.figure(figsize=(12,5))\n",
    "# plt.plot(t, np.imag(s))\n",
    "# plt.xlabel('Time')\n",
    "# plt.ylabel('$|s|$')\n",
    "# plt.xlim(6.012, 6.054)\n",
    "# plt.grid()\n",
    "# plt.show()"
   ]
  },
  {
   "cell_type": "code",
   "execution_count": 8,
   "id": "03a86791-ce9b-4b79-bdce-247795c8489e",
   "metadata": {},
   "outputs": [
    {
     "name": "stdout",
     "output_type": "stream",
     "text": [
      "6.0119430000000005\n"
     ]
    }
   ],
   "source": [
    "# timeframe1 = np.where(np.logical_and(t>=6.012, t<=6.054))[0]\n",
    "# timeframe2 = np.where(np.logical_and(t>=6.05375, t<=6.09575))[0]\n",
    "# timeframe3 = np.where(np.logical_and(t>=6.0955, t<=6.1375))[0]\n",
    "startTime = (getStartTime(s)/Fs) - 0.00125\n",
    "print(startTime)\n",
    "timeframe1 = np.where(np.logical_and(t>=startTime, t<=startTime+0.042))[0]\n",
    "timeframe2 = np.where(np.logical_and(t>=startTime+0.042, t<=startTime+0.084))[0]\n",
    "timeframe3 = np.where(np.logical_and(t>=startTime+0.084, t<=startTime+0.126))[0]"
   ]
  },
  {
   "cell_type": "code",
   "execution_count": 9,
   "id": "6cba3c99-6bdf-449f-b068-dd2bbf7ca4f2",
   "metadata": {},
   "outputs": [],
   "source": [
    "# # Make an IQ plot\n",
    "# plt.figure(figsize=(5,5))\n",
    "# plt.plot(np.real(s[timeframe1]), np.imag(s[timeframe1]), '.', ms=1)\n",
    "# plt.xlabel('Real')\n",
    "# plt.ylabel('Imaginary')\n",
    "# plt.xlim(-0.3,0.3)\n",
    "# plt.ylim(-0.3,0.3)\n",
    "# plt.gca().set_aspect('equal')\n",
    "# plt.grid()\n",
    "# plt.show()"
   ]
  },
  {
   "cell_type": "code",
   "execution_count": 10,
   "id": "fd7f2819-1062-464c-b101-b80b3977ccff",
   "metadata": {},
   "outputs": [],
   "source": [
    "# plt.specgram(s[timeframe1], Fs=Fs)\n",
    "# plt.ylim(-12500,12500)\n",
    "# plt.xlabel('Time')\n",
    "# plt.ylabel('Frequency')\n",
    "# plt.show()"
   ]
  },
  {
   "cell_type": "code",
   "execution_count": 11,
   "id": "f35d77ce-f07e-4e8f-bcf1-65c9ff01e18e",
   "metadata": {},
   "outputs": [
    {
     "name": "stdout",
     "output_type": "stream",
     "text": [
      "Min Duration: 203\n",
      "Max Duration: 1297\n",
      "Total Pulses: 122\n",
      "Number of Bits: 196\n",
      "0001110001110001110001110001101101001001001001001101001101101101101101101101001101001001001101001001101001001101001001001001001001001001101001001101001101001001101001001001001101101001001101001101\n"
     ]
    }
   ],
   "source": [
    "s_filtered1 = filterSignal(s, timeframe1, Fs)\n",
    "b1 = signal_to_data(s_filtered1)\n",
    "print(b1)"
   ]
  },
  {
   "cell_type": "code",
   "execution_count": 12,
   "id": "905c9e13-8be0-4ae3-a1ca-c9911604bb92",
   "metadata": {},
   "outputs": [
    {
     "name": "stdout",
     "output_type": "stream",
     "text": [
      "Min Duration: 203\n",
      "Max Duration: 1046\n",
      "Total Pulses: 122\n",
      "Number of Bits: 196\n",
      "0001110001110001110001110001101101001001001001001101001101101101101101101101001101001001001101001001101001001101001001001001001001001001101001001101001101001001101001001001001101101001001101001101\n"
     ]
    }
   ],
   "source": [
    "s_filtered2 = filterSignal(s, timeframe2, Fs)\n",
    "b2 = signal_to_data(s_filtered2)\n",
    "print(b2)"
   ]
  },
  {
   "cell_type": "code",
   "execution_count": 13,
   "id": "ad469b00-59a3-4110-8bf8-5b3dbabcffb0",
   "metadata": {},
   "outputs": [
    {
     "name": "stdout",
     "output_type": "stream",
     "text": [
      "Min Duration: 203\n",
      "Max Duration: 794\n",
      "Total Pulses: 122\n",
      "Number of Bits: 196\n",
      "0001110001110001110001110001101101001001001001001101001101101101101101101101001101001001001101001001101001001101001001001001001001001001101001001101001101001001101001001001001101101001001101001101\n"
     ]
    }
   ],
   "source": [
    "s_filtered3 = filterSignal(s, timeframe3, Fs)\n",
    "b3 = signal_to_data(s_filtered3)\n",
    "print(b3)"
   ]
  },
  {
   "cell_type": "code",
   "execution_count": 14,
   "id": "d1487617-4120-4107-b0f0-a7bf48211ac8",
   "metadata": {},
   "outputs": [
    {
     "name": "stdout",
     "output_type": "stream",
     "text": [
      "True\n"
     ]
    }
   ],
   "source": [
    "print(compare_byteStrings(b1, b2, b3))"
   ]
  }
 ],
 "metadata": {
  "kernelspec": {
   "display_name": "Python 3 (ipykernel)",
   "language": "python",
   "name": "python3"
  },
  "language_info": {
   "codemirror_mode": {
    "name": "ipython",
    "version": 3
   },
   "file_extension": ".py",
   "mimetype": "text/x-python",
   "name": "python",
   "nbconvert_exporter": "python",
   "pygments_lexer": "ipython3",
   "version": "3.9.6"
  }
 },
 "nbformat": 4,
 "nbformat_minor": 5
}

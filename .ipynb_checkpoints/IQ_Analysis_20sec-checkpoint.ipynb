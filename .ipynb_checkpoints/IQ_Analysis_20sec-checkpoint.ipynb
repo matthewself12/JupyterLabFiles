{
 "cells": [
  {
   "cell_type": "code",
   "execution_count": 1,
   "id": "18937155-5ce1-4d2e-8bea-64ee6c9e5bfd",
   "metadata": {},
   "outputs": [
    {
     "ename": "FileNotFoundError",
     "evalue": "[Errno 2] No such file or directory: 'rawData_20sec'",
     "output_type": "error",
     "traceback": [
      "\u001b[1;31m-----------------------------------------------------------------\u001b[0m",
      "\u001b[1;31mFileNotFoundError\u001b[0m               Traceback (most recent call last)",
      "Cell \u001b[1;32mIn [1], line 7\u001b[0m\n\u001b[0;32m      4\u001b[0m \u001b[38;5;28;01mfrom\u001b[39;00m \u001b[38;5;21;01mscipy\u001b[39;00m \u001b[38;5;28;01mimport\u001b[39;00m signal \u001b[38;5;28;01mas\u001b[39;00m sp\n\u001b[0;32m      6\u001b[0m \u001b[38;5;66;03m# Load the raw collection\u001b[39;00m\n\u001b[1;32m----> 7\u001b[0m s \u001b[38;5;241m=\u001b[39m np\u001b[38;5;241m.\u001b[39mfromfile(\u001b[38;5;28;43mopen\u001b[39;49m\u001b[43m(\u001b[49m\u001b[38;5;124;43m\"\u001b[39;49m\u001b[38;5;124;43mrawData_20sec\u001b[39;49m\u001b[38;5;124;43m\"\u001b[39;49m\u001b[43m)\u001b[49m, dtype\u001b[38;5;241m=\u001b[39mnp\u001b[38;5;241m.\u001b[39mcomplex64)\n\u001b[0;32m      9\u001b[0m \u001b[38;5;66;03m# Notes from Matthew\u001b[39;00m\n\u001b[0;32m     10\u001b[0m Fs \u001b[38;5;241m=\u001b[39m \u001b[38;5;241m1e6\u001b[39m\n",
      "File \u001b[1;32mc:\\users\\selfb\\appdata\\local\\programs\\python\\python39\\lib\\site-packages\\IPython\\core\\interactiveshell.py:282\u001b[0m, in \u001b[0;36m_modified_open\u001b[1;34m(file, *args, **kwargs)\u001b[0m\n\u001b[0;32m    275\u001b[0m \u001b[38;5;28;01mif\u001b[39;00m file \u001b[38;5;129;01min\u001b[39;00m {\u001b[38;5;241m0\u001b[39m, \u001b[38;5;241m1\u001b[39m, \u001b[38;5;241m2\u001b[39m}:\n\u001b[0;32m    276\u001b[0m     \u001b[38;5;28;01mraise\u001b[39;00m \u001b[38;5;167;01mValueError\u001b[39;00m(\n\u001b[0;32m    277\u001b[0m         \u001b[38;5;124mf\u001b[39m\u001b[38;5;124m\"\u001b[39m\u001b[38;5;124mIPython won\u001b[39m\u001b[38;5;124m'\u001b[39m\u001b[38;5;124mt let you open fd=\u001b[39m\u001b[38;5;132;01m{\u001b[39;00mfile\u001b[38;5;132;01m}\u001b[39;00m\u001b[38;5;124m by default \u001b[39m\u001b[38;5;124m\"\u001b[39m\n\u001b[0;32m    278\u001b[0m         \u001b[38;5;124m\"\u001b[39m\u001b[38;5;124mas it is likely to crash IPython. If you know what you are doing, \u001b[39m\u001b[38;5;124m\"\u001b[39m\n\u001b[0;32m    279\u001b[0m         \u001b[38;5;124m\"\u001b[39m\u001b[38;5;124myou can use builtins\u001b[39m\u001b[38;5;124m'\u001b[39m\u001b[38;5;124m open.\u001b[39m\u001b[38;5;124m\"\u001b[39m\n\u001b[0;32m    280\u001b[0m     )\n\u001b[1;32m--> 282\u001b[0m \u001b[38;5;28;01mreturn\u001b[39;00m io_open(file, \u001b[38;5;241m*\u001b[39margs, \u001b[38;5;241m*\u001b[39m\u001b[38;5;241m*\u001b[39mkwargs)\n",
      "\u001b[1;31mFileNotFoundError\u001b[0m: [Errno 2] No such file or directory: 'rawData_20sec'"
     ]
    }
   ],
   "source": [
    "# Imports\n",
    "import numpy as np\n",
    "from matplotlib import pyplot as plt\n",
    "from scipy import signal as sp\n",
    "\n",
    "# Load the raw collection\n",
    "s = np.fromfile(open(\"rawData_20sec\"), dtype=np.complex64)\n",
    "\n",
    "# Notes from Matthew\n",
    "Fs = 1e6\n",
    "Fc = 433946924\n",
    "\n",
    "# Setup a time axis\n",
    "t = np.arange(s.size) / Fs"
   ]
  },
  {
   "cell_type": "code",
   "execution_count": null,
   "id": "95e7c1e4-5f37-4f2c-a11b-d569aae26b70",
   "metadata": {},
   "outputs": [],
   "source": [
    "def filterSignal(s, timeframe, Fs):\n",
    "    # Low =-pass filter the data\n",
    "    h = sp.firwin(numtaps=101, cutoff=1, nyq=Fs/2)\n",
    "    s_filtered = np.abs(sp.lfilter(h, 1.0, s[timeframe]))\n",
    "    return s_filtered\n",
    "\n",
    "def getStartTime(s):\n",
    "    # Find the start of the first data chunk\n",
    "    start = 0\n",
    "    for i, item in enumerate(s):\n",
    "        if(item > 0.05):\n",
    "            start = i\n",
    "            break\n",
    "    if(start == 0):\n",
    "        # no signal found\n",
    "        return -1\n",
    "    else:\n",
    "        return start\n",
    "\n",
    "def signal_to_data(s_filtered):\n",
    "    # First find the mean amplitude of the filtered data signal\n",
    "    avg = sum(s_filtered) / s_filtered.size\n",
    "    # Anything that is below the mean is 0, and anything above is 1\n",
    "    scaled = s_filtered.copy()\n",
    "    for i, item in enumerate(scaled):\n",
    "        if item < avg:\n",
    "            scaled[i] = 0\n",
    "        else:\n",
    "            scaled[i] = 1\n",
    "    # Find the duration of each peak and place them into an array\n",
    "    durations = []\n",
    "    bits = []\n",
    "    prevVal = scaled[0]\n",
    "    duration = 0\n",
    "    for i in range(scaled.size):\n",
    "        if(scaled[i] == prevVal):\n",
    "            duration = duration + 1\n",
    "        else:\n",
    "            durations.append(duration)\n",
    "            if(duration > 580):\n",
    "                bits.append(bool(prevVal))\n",
    "                bits.append(bool(prevVal))\n",
    "                bits.append(bool(prevVal))\n",
    "            elif(duration > 380):\n",
    "                bits.append(bool(prevVal))\n",
    "                bits.append(bool(prevVal))\n",
    "            else:\n",
    "                bits.append(bool(prevVal))\n",
    "            duration = 0 # reset the duration \"timer\"\n",
    "        prevVal = scaled[i]\n",
    "\n",
    "    # find the max and min durations\n",
    "    maxDuration = np.max(durations)\n",
    "    minDuration = np.min(durations)\n",
    "    print('Min Duration:', minDuration)\n",
    "    print('Max Duration:', maxDuration)\n",
    "    print('Total Pulses:', len(durations))\n",
    "    print('Number of Bits:', len(bits))\n",
    "    \n",
    "    byteStr = \"\"\n",
    "    for b in bits:\n",
    "        byteStr += str(int(b))\n",
    "    return byteStr\n",
    "\n",
    "def compare_byteStrings(b1, b2, b3):\n",
    "    return b1 == b2 and b2 == b3"
   ]
  },
  {
   "cell_type": "code",
   "execution_count": null,
   "id": "95ea2554-a8a0-4739-8c64-69f7b6f42ce8",
   "metadata": {},
   "outputs": [],
   "source": [
    "# plt.figure(figsize=(12,5))\n",
    "# plt.plot(t, np.abs(s))\n",
    "# plt.xlabel('Time')\n",
    "# plt.ylabel('$|s|$')\n",
    "# plt.grid()\n",
    "# plt.show()"
   ]
  },
  {
   "cell_type": "code",
   "execution_count": null,
   "id": "f171fe47-9176-4efa-9d81-8eea55fca082",
   "metadata": {},
   "outputs": [],
   "source": [
    "# plt.figure(figsize=(12,5))\n",
    "# plt.plot(t, np.abs(s))\n",
    "# plt.xlabel('Time')\n",
    "# plt.ylabel('$|s|$')\n",
    "# plt.xlim(18.95, 19.1)\n",
    "# plt.grid()\n",
    "# plt.show()"
   ]
  },
  {
   "cell_type": "code",
   "execution_count": null,
   "id": "85c13194-dcc1-440c-abd7-0fe9b6f6c0cc",
   "metadata": {},
   "outputs": [],
   "source": [
    "# plt.figure(figsize=(12,5))\n",
    "# plt.plot(t, np.abs(s))\n",
    "# plt.xlabel('Time')\n",
    "# plt.ylabel('$|s|$')\n",
    "# plt.xlim(18.967, 18.975)\n",
    "# plt.grid()\n",
    "# plt.show()"
   ]
  },
  {
   "cell_type": "code",
   "execution_count": null,
   "id": "0f1ad1cb-93b1-4a0c-a84b-562532cd39a1",
   "metadata": {},
   "outputs": [],
   "source": [
    "# # Plot just the real\n",
    "# plt.figure(figsize=(12,5))\n",
    "# plt.plot(t, np.real(s))\n",
    "# plt.xlabel('Time')\n",
    "# plt.ylabel('$|s|$')\n",
    "# plt.xlim(18.964, 19.005)\n",
    "# plt.grid()\n",
    "# plt.show()"
   ]
  },
  {
   "cell_type": "code",
   "execution_count": null,
   "id": "6110cab6-bc04-4189-b7e4-fe7ff279c36c",
   "metadata": {},
   "outputs": [],
   "source": [
    "# # Plot just the imaginary\n",
    "# plt.figure(figsize=(12,5))\n",
    "# plt.plot(t, np.imag(s))\n",
    "# plt.xlabel('Time')\n",
    "# plt.ylabel('$|s|$')\n",
    "# plt.xlim(18.964, 19.005)\n",
    "# plt.grid()\n",
    "# plt.show()"
   ]
  },
  {
   "cell_type": "code",
   "execution_count": null,
   "id": "d812d680-4a03-4595-9c68-d15445329bef",
   "metadata": {},
   "outputs": [],
   "source": [
    "startTime = (getStartTime(s)/Fs) - 0.00125\n",
    "print(startTime)\n",
    "timeframe1 = np.where(np.logical_and(t>=startTime, t<=startTime+0.042))[0]\n",
    "timeframe2 = np.where(np.logical_and(t>=startTime+0.042, t<=startTime+0.084))[0]\n",
    "timeframe3 = np.where(np.logical_and(t>=startTime+0.084, t<=startTime+0.126))[0]"
   ]
  },
  {
   "cell_type": "code",
   "execution_count": null,
   "id": "b4510969-6b64-4b0e-914b-6d1ed440e27e",
   "metadata": {},
   "outputs": [],
   "source": [
    "# # Make an IQ plot\n",
    "# plt.figure(figsize=(5,5))\n",
    "# plt.plot(np.real(s[timeframe]), np.imag(s[timeframe]), '.', ms=1)\n",
    "# plt.xlabel('Real')\n",
    "# plt.ylabel('Imaginary')\n",
    "# plt.xlim(-0.3,0.3)\n",
    "# plt.ylim(-0.3,0.3)\n",
    "# plt.gca().set_aspect('equal')\n",
    "# plt.grid()\n",
    "# plt.show()"
   ]
  },
  {
   "cell_type": "code",
   "execution_count": null,
   "id": "fd7f2819-1062-464c-b101-b80b3977ccff",
   "metadata": {},
   "outputs": [],
   "source": [
    "plt.specgram(s[timeframe1], Fs=Fs)\n",
    "plt.ylim(-12500,12500)\n",
    "plt.xlabel('Time')Copy\n",
    "plt.ylabel('Frequency')\n",
    "plt.show()"
   ]
  },
  {
   "cell_type": "code",
   "execution_count": null,
   "id": "57f42701-1f61-421b-b095-6bc681d73b26",
   "metadata": {},
   "outputs": [],
   "source": [
    "s_filtered1 = filterSignal(s, timeframe1, Fs)\n",
    "b1 = signal_to_data(s_filtered1)\n",
    "print(b1)"
   ]
  },
  {
   "cell_type": "code",
   "execution_count": null,
   "id": "82e0497d-708a-4be1-9c57-357ae0b581a3",
   "metadata": {},
   "outputs": [],
   "source": [
    "s_filtered2 = filterSignal(s, timeframe2, Fs)\n",
    "b2 = signal_to_data(s_filtered2)\n",
    "print(b2)"
   ]
  },
  {
   "cell_type": "code",
   "execution_count": null,
   "id": "2ef8c433-a317-4599-9d1a-d16b40fdb238",
   "metadata": {},
   "outputs": [],
   "source": [
    "s_filtered3 = filterSignal(s, timeframe3, Fs)\n",
    "b3 = signal_to_data(s_filtered3)\n",
    "print(b3)"
   ]
  },
  {
   "cell_type": "code",
   "execution_count": null,
   "id": "acc55ba0-b119-411c-b284-3357d65d5b06",
   "metadata": {},
   "outputs": [],
   "source": [
    "print(compare_byteStrings(b1, b2, b3))"
   ]
  }
 ],
 "metadata": {
  "kernelspec": {
   "display_name": "Python 3 (ipykernel)",
   "language": "python",
   "name": "python3"
  },
  "language_info": {
   "codemirror_mode": {
    "name": "ipython",
    "version": 3
   },
   "file_extension": ".py",
   "mimetype": "text/x-python",
   "name": "python",
   "nbconvert_exporter": "python",
   "pygments_lexer": "ipython3",
   "version": "3.9.6"
  }
 },
 "nbformat": 4,
 "nbformat_minor": 5
}
